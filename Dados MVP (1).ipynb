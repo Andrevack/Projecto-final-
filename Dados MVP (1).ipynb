{
 "cells": [
  {
   "cell_type": "markdown",
   "metadata": {
    "application/vnd.databricks.v1+cell": {
     "cellMetadata": {},
     "inputWidgets": {},
     "nuid": "96816ed7-b08a-4ca3-abb9-f99880c3535d",
     "showTitle": false,
     "tableResultSettingsMap": {},
     "title": ""
    }
   },
   "source": [
    "\n",
    "## Overview\n",
    "\n",
    "This notebook will show you how to create and query a table or DataFrame that you uploaded to DBFS. [DBFS](https://docs.databricks.com/user-guide/dbfs-databricks-file-system.html) is a Databricks File System that allows you to store data for querying inside of Databricks. This notebook assumes that you have a file already inside of DBFS that you would like to read from.\n",
    "\n",
    "This notebook is written in **Python** so the default cell type is Python. However, you can use different languages by using the `%LANGUAGE` syntax. Python, Scala, SQL, and R are all supported."
   ]
  },
  {
   "cell_type": "code",
   "execution_count": 0,
   "metadata": {
    "application/vnd.databricks.v1+cell": {
     "cellMetadata": {
      "byteLimit": 2048000,
      "rowLimit": 10000
     },
     "inputWidgets": {},
     "nuid": "e51b9124-7c8d-45d7-9512-01d58468e21a",
     "showTitle": false,
     "tableResultSettingsMap": {},
     "title": ""
    }
   },
   "outputs": [],
   "source": []
  },
  {
   "cell_type": "code",
   "execution_count": 0,
   "metadata": {
    "application/vnd.databricks.v1+cell": {
     "cellMetadata": {
      "byteLimit": 2048000,
      "rowLimit": 10000
     },
     "inputWidgets": {},
     "nuid": "66012a55-9f7a-4d3f-ad21-e09953efb79a",
     "showTitle": false,
     "tableResultSettingsMap": {},
     "title": ""
    }
   },
   "outputs": [
    {
     "output_type": "display_data",
     "data": {
      "text/html": [
       "<style scoped>\n",
       "  .table-result-container {\n",
       "    max-height: 300px;\n",
       "    overflow: auto;\n",
       "  }\n",
       "  table, th, td {\n",
       "    border: 1px solid black;\n",
       "    border-collapse: collapse;\n",
       "  }\n",
       "  th, td {\n",
       "    padding: 5px;\n",
       "  }\n",
       "  th {\n",
       "    text-align: left;\n",
       "  }\n",
       "</style><div class='table-result-container'><table class='table-result'><thead style='background-color: white'><tr><th>ID_Produto</th><th>Nome do produto </th><th>Categoria</th><th>Valor</th></tr></thead><tbody><tr><td>P001</td><td>Tshirt</td><td>Roupa</td><td>20.0</td></tr><tr><td>P002</td><td>Cueca</td><td>Roupa</td><td>30.0</td></tr><tr><td>P003</td><td>Sapato</td><td>Calçado</td><td>40.0</td></tr><tr><td>P004</td><td>Meia</td><td>Roupa</td><td>50.0</td></tr><tr><td>P005</td><td>Cinto</td><td>Acessorios</td><td>60.0</td></tr><tr><td>P006</td><td>Bolsa</td><td>Acessorios</td><td>70.0</td></tr><tr><td>P007</td><td>Mala</td><td>Acessorios</td><td>80.0</td></tr><tr><td>P008</td><td>Óculos</td><td>Acessorios</td><td>90.0</td></tr><tr><td>P009</td><td>Vestido</td><td>Roupa</td><td>100.0</td></tr><tr><td>P010</td><td>Toalha</td><td>Roupa</td><td>110.0</td></tr><tr><td>P011</td><td>Perfume</td><td>Acessorios</td><td>120.0</td></tr><tr><td>P012</td><td>Tapete</td><td>Casa</td><td>130.0</td></tr><tr><td>P013</td><td>Tapete</td><td>Casa</td><td>130.0</td></tr><tr><td>P014</td><td>Tapete</td><td>Casa</td><td>130.0</td></tr><tr><td>P015</td><td>Tapete</td><td>Casa</td><td>130.0</td></tr><tr><td>P016</td><td>Meia</td><td>Roupa</td><td>50.0</td></tr><tr><td>P017</td><td>Sapato</td><td>Calçado</td><td>40.0</td></tr><tr><td>P018</td><td>Perfume</td><td>Acessorios</td><td>120.0</td></tr><tr><td>P019</td><td>Perfume</td><td>Acessorios</td><td>120.0</td></tr><tr><td>P020</td><td>Sapato</td><td>Roupa</td><td>40.0</td></tr><tr><td>P021</td><td>Mala</td><td>Acessorios</td><td>80.0</td></tr><tr><td>P022</td><td>Mala</td><td>Acessorios</td><td>80.0</td></tr><tr><td>P023</td><td>Perfume</td><td>Acessorios</td><td>120.0</td></tr><tr><td>P024</td><td>Toalha</td><td>Roupa</td><td>110.0</td></tr><tr><td>P025</td><td>Tshirt</td><td>Roupa</td><td>20.0</td></tr></tbody></table></div>"
      ]
     },
     "metadata": {
      "application/vnd.databricks.v1+output": {
       "addedWidgets": {},
       "aggData": [],
       "aggError": "",
       "aggOverflow": false,
       "aggSchema": [],
       "aggSeriesLimitReached": false,
       "aggType": "",
       "arguments": {},
       "columnCustomDisplayInfos": {},
       "data": [
        [
         "P001",
         "Tshirt",
         "Roupa",
         20.0
        ],
        [
         "P002",
         "Cueca",
         "Roupa",
         30.0
        ],
        [
         "P003",
         "Sapato",
         "Calçado",
         40.0
        ],
        [
         "P004",
         "Meia",
         "Roupa",
         50.0
        ],
        [
         "P005",
         "Cinto",
         "Acessorios",
         60.0
        ],
        [
         "P006",
         "Bolsa",
         "Acessorios",
         70.0
        ],
        [
         "P007",
         "Mala",
         "Acessorios",
         80.0
        ],
        [
         "P008",
         "Óculos",
         "Acessorios",
         90.0
        ],
        [
         "P009",
         "Vestido",
         "Roupa",
         100.0
        ],
        [
         "P010",
         "Toalha",
         "Roupa",
         110.0
        ],
        [
         "P011",
         "Perfume",
         "Acessorios",
         120.0
        ],
        [
         "P012",
         "Tapete",
         "Casa",
         130.0
        ],
        [
         "P013",
         "Tapete",
         "Casa",
         130.0
        ],
        [
         "P014",
         "Tapete",
         "Casa",
         130.0
        ],
        [
         "P015",
         "Tapete",
         "Casa",
         130.0
        ],
        [
         "P016",
         "Meia",
         "Roupa",
         50.0
        ],
        [
         "P017",
         "Sapato",
         "Calçado",
         40.0
        ],
        [
         "P018",
         "Perfume",
         "Acessorios",
         120.0
        ],
        [
         "P019",
         "Perfume",
         "Acessorios",
         120.0
        ],
        [
         "P020",
         "Sapato",
         "Roupa",
         40.0
        ],
        [
         "P021",
         "Mala",
         "Acessorios",
         80.0
        ],
        [
         "P022",
         "Mala",
         "Acessorios",
         80.0
        ],
        [
         "P023",
         "Perfume",
         "Acessorios",
         120.0
        ],
        [
         "P024",
         "Toalha",
         "Roupa",
         110.0
        ],
        [
         "P025",
         "Tshirt",
         "Roupa",
         20.0
        ]
       ],
       "datasetInfos": [],
       "dbfsResultPath": null,
       "isJsonSchema": true,
       "metadata": {},
       "overflow": false,
       "plotOptions": {
        "customPlotOptions": {},
        "displayType": "table",
        "pivotAggregation": null,
        "pivotColumns": null,
        "xColumns": null,
        "yColumns": null
       },
       "removedWidgets": [],
       "schema": [
        {
         "metadata": "{}",
         "name": "ID_Produto",
         "type": "\"string\""
        },
        {
         "metadata": "{}",
         "name": "Nome do produto ",
         "type": "\"string\""
        },
        {
         "metadata": "{}",
         "name": "Categoria",
         "type": "\"string\""
        },
        {
         "metadata": "{}",
         "name": "Valor",
         "type": "\"double\""
        }
       ],
       "type": "table"
      }
     },
     "output_type": "display_data"
    }
   ],
   "source": [
    "df.display()"
   ]
  },
  {
   "cell_type": "code",
   "execution_count": 0,
   "metadata": {
    "application/vnd.databricks.v1+cell": {
     "cellMetadata": {
      "byteLimit": 2048000,
      "rowLimit": 10000
     },
     "inputWidgets": {},
     "nuid": "6353d332-71f8-4218-96f4-193838ec6cce",
     "showTitle": false,
     "tableResultSettingsMap": {},
     "title": ""
    }
   },
   "outputs": [],
   "source": [
    "tables = spark.catalog.listTables()\n",
    "for table in tables:\n",
    "    print(table.name)"
   ]
  },
  {
   "cell_type": "code",
   "execution_count": 0,
   "metadata": {
    "application/vnd.databricks.v1+cell": {
     "cellMetadata": {
      "byteLimit": 2048000,
      "rowLimit": 10000
     },
     "inputWidgets": {},
     "nuid": "d45ad937-e26b-40bd-ab9c-16c5375add93",
     "showTitle": false,
     "tableResultSettingsMap": {},
     "title": ""
    }
   },
   "outputs": [
    {
     "output_type": "stream",
     "name": "stdout",
     "output_type": "stream",
     "text": [
      "+----------+----------------+----------+-----+\n|ID_Produto|Nome do produto | Categoria|Valor|\n+----------+----------------+----------+-----+\n|      P001|          Tshirt|     Roupa| 20.0|\n|      P002|           Cueca|     Roupa| 30.0|\n|      P003|          Sapato|   Calçado| 40.0|\n|      P004|            Meia|     Roupa| 50.0|\n|      P005|           Cinto|Acessorios| 60.0|\n|      P006|           Bolsa|Acessorios| 70.0|\n|      P007|            Mala|Acessorios| 80.0|\n|      P008|          Óculos|Acessorios| 90.0|\n|      P009|         Vestido|     Roupa|100.0|\n|      P010|          Toalha|     Roupa|110.0|\n|      P011|         Perfume|Acessorios|120.0|\n|      P012|          Tapete|      Casa|130.0|\n|      P013|          Tapete|      Casa|130.0|\n|      P014|          Tapete|      Casa|130.0|\n|      P015|          Tapete|      Casa|130.0|\n|      P016|            Meia|     Roupa| 50.0|\n|      P017|          Sapato|   Calçado| 40.0|\n|      P018|         Perfume|Acessorios|120.0|\n|      P019|         Perfume|Acessorios|120.0|\n|      P020|          Sapato|     Roupa| 40.0|\n+----------+----------------+----------+-----+\nonly showing top 20 rows\n\n"
     ]
    }
   ],
   "source": [
    "df.show()"
   ]
  },
  {
   "cell_type": "code",
   "execution_count": 0,
   "metadata": {
    "application/vnd.databricks.v1+cell": {
     "cellMetadata": {
      "byteLimit": 2048000,
      "rowLimit": 10000
     },
     "inputWidgets": {},
     "nuid": "f8d7b2af-a44e-4e0d-b950-a26bd0053390",
     "showTitle": false,
     "tableResultSettingsMap": {},
     "title": ""
    }
   },
   "outputs": [
    {
     "output_type": "stream",
     "name": "stdout",
     "output_type": "stream",
     "text": [
      "+----------+----------------+---------+-----+\n|ID_Produto|Nome do produto |Categoria|Valor|\n+----------+----------------+---------+-----+\n|      P001|          Tshirt|    Roupa| 20.0|\n|      P002|           Cueca|    Roupa| 30.0|\n|      P004|            Meia|    Roupa| 50.0|\n|      P009|         Vestido|    Roupa|100.0|\n|      P010|          Toalha|    Roupa|110.0|\n|      P016|            Meia|    Roupa| 50.0|\n|      P020|          Sapato|    Roupa| 40.0|\n|      P024|          Toalha|    Roupa|110.0|\n|      P025|          Tshirt|    Roupa| 20.0|\n+----------+----------------+---------+-----+\n\n"
     ]
    }
   ],
   "source": [
    "df_roupa = df.filter(df['Categoria'] == 'Roupa')\n",
    "df_roupa.show()"
   ]
  },
  {
   "cell_type": "code",
   "execution_count": 0,
   "metadata": {
    "application/vnd.databricks.v1+cell": {
     "cellMetadata": {
      "byteLimit": 2048000,
      "rowLimit": 10000
     },
     "inputWidgets": {},
     "nuid": "386d6f33-6cf9-439c-ac21-768b27b38fee",
     "showTitle": false,
     "tableResultSettingsMap": {},
     "title": ""
    }
   },
   "outputs": [
    {
     "output_type": "stream",
     "name": "stdout",
     "output_type": "stream",
     "text": [
      "root\n |-- ID_Cliente: string (nullable = true)\n |-- Nome_Cliente: string (nullable = true)\n |-- idade: double (nullable = true)\n |-- Gênero: string (nullable = true)\n |-- Cidade: string (nullable = true)\n\nroot\n |-- ID_Cliente: string (nullable = true)\n |-- Produto: string (nullable = true)\n |-- Valor: double (nullable = true)\n |-- Quantidade: double (nullable = true)\n |-- Valor da Compra: double (nullable = true)\n |-- ID_Produto: string (nullable = true)\n\n"
     ]
    }
   ],
   "source": [
    "\n",
    "df_cliente.printSchema()\n",
    "df_vendas.printSchema()"
   ]
  },
  {
   "cell_type": "code",
   "execution_count": 0,
   "metadata": {
    "application/vnd.databricks.v1+cell": {
     "cellMetadata": {
      "byteLimit": 2048000,
      "rowLimit": 10000
     },
     "inputWidgets": {},
     "nuid": "22b2b314-1273-45f0-bd66-f23c4760c318",
     "showTitle": false,
     "tableResultSettingsMap": {},
     "title": ""
    }
   },
   "outputs": [
    {
     "output_type": "stream",
     "name": "stdout",
     "output_type": "stream",
     "text": [
      "+--------+---------+-----------+\n|database|tableName|isTemporary|\n+--------+---------+-----------+\n|        |  cliente|       true|\n|        |   vendas|       true|\n+--------+---------+-----------+\n\n"
     ]
    }
   ],
   "source": [
    "spark.sql(\"SHOW TABLES\").show()"
   ]
  },
  {
   "cell_type": "code",
   "execution_count": 0,
   "metadata": {
    "application/vnd.databricks.v1+cell": {
     "cellMetadata": {
      "byteLimit": 2048000,
      "rowLimit": 10000
     },
     "inputWidgets": {},
     "nuid": "87222854-f811-4643-80f1-db9e3939b975",
     "showTitle": false,
     "tableResultSettingsMap": {},
     "title": ""
    }
   },
   "outputs": [],
   "source": [
    "df = spark.read.format(\"com.crealytics.spark.excel\") \\\n",
    "    .option(\"header\", \"true\") \\\n",
    "    .option(\"inferSchema\", \"true\") \\\n",
    "    .load(\"/FileStore/tables/Dim_produto-3.xlsx\")"
   ]
  },
  {
   "cell_type": "code",
   "execution_count": 0,
   "metadata": {
    "application/vnd.databricks.v1+cell": {
     "cellMetadata": {
      "byteLimit": 2048000,
      "rowLimit": 10000
     },
     "inputWidgets": {},
     "nuid": "4a1a7485-487e-4cf1-97fe-49d05b93e2b5",
     "showTitle": false,
     "tableResultSettingsMap": {},
     "title": ""
    }
   },
   "outputs": [],
   "source": [
    "df.createOrReplaceTempView(\"dim_produto\")"
   ]
  },
  {
   "cell_type": "code",
   "execution_count": 0,
   "metadata": {
    "application/vnd.databricks.v1+cell": {
     "cellMetadata": {
      "byteLimit": 2048000,
      "rowLimit": 10000
     },
     "inputWidgets": {},
     "nuid": "5157b66a-b203-40b6-a333-2e13749f7b40",
     "showTitle": false,
     "tableResultSettingsMap": {},
     "title": ""
    }
   },
   "outputs": [
    {
     "output_type": "stream",
     "name": "stdout",
     "output_type": "stream",
     "text": [
      "+--------+-----------+-----------+\n|database|  tableName|isTemporary|\n+--------+-----------+-----------+\n|        |    cliente|       true|\n|        |dim_produto|       true|\n|        |     vendas|       true|\n+--------+-----------+-----------+\n\n"
     ]
    }
   ],
   "source": [
    "spark.sql(\"SHOW TABLES\").show()"
   ]
  },
  {
   "cell_type": "code",
   "execution_count": 0,
   "metadata": {
    "application/vnd.databricks.v1+cell": {
     "cellMetadata": {
      "byteLimit": 2048000,
      "rowLimit": 10000
     },
     "inputWidgets": {},
     "nuid": "64ec8940-45bd-4b93-9abc-57d1ea6a516f",
     "showTitle": false,
     "tableResultSettingsMap": {},
     "title": ""
    }
   },
   "outputs": [
    {
     "output_type": "stream",
     "name": "stdout",
     "output_type": "stream",
     "text": [
      "+----------+----------------+----------+-----+\n|ID_Produto|Nome do produto | Categoria|Valor|\n+----------+----------------+----------+-----+\n|      P001|          Tshirt|     Roupa| 20.0|\n|      P002|           Cueca|     Roupa| 30.0|\n|      P003|          Sapato|   Calçado| 40.0|\n|      P004|            Meia|     Roupa| 50.0|\n|      P005|           Cinto|Acessorios| 60.0|\n|      P006|           Bolsa|Acessorios| 70.0|\n|      P007|            Mala|Acessorios| 80.0|\n|      P008|          Óculos|Acessorios| 90.0|\n|      P009|         Vestido|     Roupa|100.0|\n|      P010|          Toalha|     Roupa|110.0|\n|      P011|         Perfume|Acessorios|120.0|\n|      P012|          Tapete|      Casa|130.0|\n|      P013|          Tapete|      Casa|130.0|\n|      P014|          Tapete|      Casa|130.0|\n|      P015|          Tapete|      Casa|130.0|\n|      P016|            Meia|     Roupa| 50.0|\n|      P017|          Sapato|   Calçado| 40.0|\n|      P018|         Perfume|Acessorios|120.0|\n|      P019|         Perfume|Acessorios|120.0|\n|      P020|          Sapato|     Roupa| 40.0|\n+----------+----------------+----------+-----+\nonly showing top 20 rows\n\n"
     ]
    }
   ],
   "source": [
    "spark.sql(\"SELECT * FROM dim_produto\").show()"
   ]
  },
  {
   "cell_type": "code",
   "execution_count": 0,
   "metadata": {
    "application/vnd.databricks.v1+cell": {
     "cellMetadata": {
      "byteLimit": 2048000,
      "rowLimit": 10000
     },
     "inputWidgets": {},
     "nuid": "ea649b7b-db9e-4023-83c6-da73b33e5076",
     "showTitle": false,
     "tableResultSettingsMap": {},
     "title": ""
    }
   },
   "outputs": [
    {
     "output_type": "stream",
     "name": "stdout",
     "output_type": "stream",
     "text": [
      "+----------+-------+-----+----------+---------------+----------+\n|ID_Cliente|Produto|Valor|Quantidade|Valor da Compra|ID_Produto|\n+----------+-------+-----+----------+---------------+----------+\n|     HL001| Tshirt| 20.0|       2.0|           40.0|      P001|\n|     HL002|  Cueca| 30.0|       2.0|           60.0|      P002|\n|     HL003| Sapato| 40.0|       1.0|           40.0|      P003|\n|     HL004|   Meia| 50.0|       3.0|          150.0|      P004|\n|     HL005|  Cinto| 60.0|       1.0|           60.0|      P005|\n|     HL006|  Bolsa| 70.0|       2.0|          140.0|      P006|\n|     HL007|   Mala| 80.0|       3.0|          240.0|      P007|\n|     HL008| Óculos| 90.0|       2.0|          180.0|      P008|\n|     HL009|Vestido|100.0|       1.0|          100.0|      P009|\n|     HL010| Toalha|110.0|       2.0|          220.0|      P010|\n|     HL011|Perfume|120.0|       4.0|          480.0|      P011|\n|     HL012| Tapete|130.0|       3.0|          390.0|      P012|\n|     HL013| Tapete|130.0|       4.0|          520.0|      P013|\n|     HL014| Tapete|130.0|       5.0|          650.0|      P014|\n|     HL015| Tapete|130.0|       3.0|          390.0|      P015|\n|     HL016|   Meia| 50.0|       2.0|          100.0|      P016|\n|     HL017| Sapato| 40.0|       4.0|          160.0|      P017|\n|     HL018|Perfume|120.0|       3.0|          360.0|      P018|\n|     HL019|Perfume|120.0|       5.0|          600.0|      P019|\n|     HL020| Sapato| 40.0|       3.0|          120.0|      P020|\n+----------+-------+-----+----------+---------------+----------+\nonly showing top 20 rows\n\n"
     ]
    }
   ],
   "source": [
    "spark.sql(\"SELECT * FROM vendas\").show()"
   ]
  },
  {
   "cell_type": "code",
   "execution_count": 0,
   "metadata": {
    "application/vnd.databricks.v1+cell": {
     "cellMetadata": {
      "byteLimit": 2048000,
      "rowLimit": 10000
     },
     "inputWidgets": {},
     "nuid": "d27b99dd-9477-4350-862d-6da96eadada6",
     "showTitle": false,
     "tableResultSettingsMap": {},
     "title": ""
    }
   },
   "outputs": [
    {
     "output_type": "stream",
     "name": "stdout",
     "output_type": "stream",
     "text": [
      "25\n"
     ]
    }
   ],
   "source": [
    "print(df.count())"
   ]
  },
  {
   "cell_type": "code",
   "execution_count": 0,
   "metadata": {
    "application/vnd.databricks.v1+cell": {
     "cellMetadata": {
      "byteLimit": 2048000,
      "rowLimit": 10000
     },
     "inputWidgets": {},
     "nuid": "2e2900bb-8a12-4811-85ac-8634823328b2",
     "showTitle": false,
     "tableResultSettingsMap": {},
     "title": ""
    }
   },
   "outputs": [
    {
     "output_type": "stream",
     "name": "stdout",
     "output_type": "stream",
     "text": [
      "+----------+----------------+----------+-----+\n|ID_Produto|Nome do produto |Categoria |Valor|\n+----------+----------------+----------+-----+\n|P001      |Tshirt          |Roupa     |20.0 |\n|P002      |Cueca           |Roupa     |30.0 |\n|P003      |Sapato          |Calçado   |40.0 |\n|P004      |Meia            |Roupa     |50.0 |\n|P005      |Cinto           |Acessorios|60.0 |\n|P006      |Bolsa           |Acessorios|70.0 |\n|P007      |Mala            |Acessorios|80.0 |\n|P008      |Óculos          |Acessorios|90.0 |\n|P009      |Vestido         |Roupa     |100.0|\n|P010      |Toalha          |Roupa     |110.0|\n|P011      |Perfume         |Acessorios|120.0|\n|P012      |Tapete          |Casa      |130.0|\n|P013      |Tapete          |Casa      |130.0|\n|P014      |Tapete          |Casa      |130.0|\n|P015      |Tapete          |Casa      |130.0|\n|P016      |Meia            |Roupa     |50.0 |\n|P017      |Sapato          |Calçado   |40.0 |\n|P018      |Perfume         |Acessorios|120.0|\n|P019      |Perfume         |Acessorios|120.0|\n|P020      |Sapato          |Roupa     |40.0 |\n|P021      |Mala            |Acessorios|80.0 |\n|P022      |Mala            |Acessorios|80.0 |\n|P023      |Perfume         |Acessorios|120.0|\n|P024      |Toalha          |Roupa     |110.0|\n|P025      |Tshirt          |Roupa     |20.0 |\n+----------+----------------+----------+-----+\n\n"
     ]
    }
   ],
   "source": [
    "df.show(25, truncate=False)"
   ]
  },
  {
   "cell_type": "code",
   "execution_count": 0,
   "metadata": {
    "application/vnd.databricks.v1+cell": {
     "cellMetadata": {
      "byteLimit": 2048000,
      "rowLimit": 10000
     },
     "inputWidgets": {},
     "nuid": "0d27761f-0b43-4323-aa5a-b156cd1045ae",
     "showTitle": false,
     "tableResultSettingsMap": {},
     "title": ""
    }
   },
   "outputs": [
    {
     "output_type": "stream",
     "name": "stdout",
     "output_type": "stream",
     "text": [
      "+----------+-------+-----+----------+---------------+----------+\n|ID_Cliente|Produto|Valor|Quantidade|Valor da Compra|ID_Produto|\n+----------+-------+-----+----------+---------------+----------+\n|HL001     |Tshirt |20.0 |2.0       |40.0           |P001      |\n|HL002     |Cueca  |30.0 |2.0       |60.0           |P002      |\n|HL003     |Sapato |40.0 |1.0       |40.0           |P003      |\n|HL004     |Meia   |50.0 |3.0       |150.0          |P004      |\n|HL005     |Cinto  |60.0 |1.0       |60.0           |P005      |\n|HL006     |Bolsa  |70.0 |2.0       |140.0          |P006      |\n|HL007     |Mala   |80.0 |3.0       |240.0          |P007      |\n|HL008     |Óculos |90.0 |2.0       |180.0          |P008      |\n|HL009     |Vestido|100.0|1.0       |100.0          |P009      |\n|HL010     |Toalha |110.0|2.0       |220.0          |P010      |\n|HL011     |Perfume|120.0|4.0       |480.0          |P011      |\n|HL012     |Tapete |130.0|3.0       |390.0          |P012      |\n|HL013     |Tapete |130.0|4.0       |520.0          |P013      |\n|HL014     |Tapete |130.0|5.0       |650.0          |P014      |\n|HL015     |Tapete |130.0|3.0       |390.0          |P015      |\n|HL016     |Meia   |50.0 |2.0       |100.0          |P016      |\n|HL017     |Sapato |40.0 |4.0       |160.0          |P017      |\n|HL018     |Perfume|120.0|3.0       |360.0          |P018      |\n|HL019     |Perfume|120.0|5.0       |600.0          |P019      |\n|HL020     |Sapato |40.0 |3.0       |120.0          |P020      |\n|HL021     |Mala   |80.0 |5.0       |400.0          |P021      |\n|HL022     |Mala   |80.0 |3.0       |240.0          |P022      |\n|HL023     |Perfume|120.0|2.0       |240.0          |P023      |\n|HL024     |Toalha |110.0|2.0       |220.0          |P024      |\n|HL025     |Tshirt |20.0 |2.0       |40.0           |P025      |\n|HL025     |Tshirt |20.0 |2.0       |40.0           |P025      |\n|HL024     |Toalha |110.0|2.0       |220.0          |P024      |\n+----------+-------+-----+----------+---------------+----------+\n\n"
     ]
    }
   ],
   "source": [
    "spark.sql(\"SELECT * FROM vendas\").show(1000, truncate=False)"
   ]
  },
  {
   "cell_type": "code",
   "execution_count": 0,
   "metadata": {
    "application/vnd.databricks.v1+cell": {
     "cellMetadata": {
      "byteLimit": 2048000,
      "rowLimit": 10000
     },
     "inputWidgets": {},
     "nuid": "7aa2f6d9-b8e9-4957-8842-905b9b5ae7fe",
     "showTitle": false,
     "tableResultSettingsMap": {},
     "title": ""
    }
   },
   "outputs": [
    {
     "output_type": "stream",
     "name": "stdout",
     "output_type": "stream",
     "text": [
      "+------------+\n|Total_Vendas|\n+------------+\n|      6400.0|\n+------------+\n\n"
     ]
    }
   ],
   "source": [
    "spark.sql(\"SELECT SUM(`valor da compra`) AS Total_Vendas FROM vendas\").show()"
   ]
  },
  {
   "cell_type": "code",
   "execution_count": 0,
   "metadata": {
    "application/vnd.databricks.v1+cell": {
     "cellMetadata": {
      "byteLimit": 2048000,
      "rowLimit": 10000
     },
     "inputWidgets": {},
     "nuid": "c10cd683-5533-44c9-b07e-f20c6fa232c7",
     "showTitle": false,
     "tableResultSettingsMap": {},
     "title": ""
    }
   },
   "outputs": [],
   "source": [
    "df_vendas_limpo = df_vendas.dropDuplicates(['ID_Cliente'])"
   ]
  },
  {
   "cell_type": "code",
   "execution_count": 0,
   "metadata": {
    "application/vnd.databricks.v1+cell": {
     "cellMetadata": {
      "byteLimit": 2048000,
      "rowLimit": 10000
     },
     "inputWidgets": {},
     "nuid": "669cef74-382c-4699-8764-332f933a059b",
     "showTitle": false,
     "tableResultSettingsMap": {},
     "title": ""
    }
   },
   "outputs": [
    {
     "output_type": "stream",
     "name": "stdout",
     "output_type": "stream",
     "text": [
      "+----------+-------+-----+----------+---------------+----------+\n|ID_Cliente|Produto|Valor|Quantidade|Valor da Compra|ID_Produto|\n+----------+-------+-----+----------+---------------+----------+\n|HL001     |Tshirt |20.0 |2.0       |40.0           |P001      |\n|HL002     |Cueca  |30.0 |2.0       |60.0           |P002      |\n|HL003     |Sapato |40.0 |1.0       |40.0           |P003      |\n|HL004     |Meia   |50.0 |3.0       |150.0          |P004      |\n|HL005     |Cinto  |60.0 |1.0       |60.0           |P005      |\n|HL006     |Bolsa  |70.0 |2.0       |140.0          |P006      |\n|HL007     |Mala   |80.0 |3.0       |240.0          |P007      |\n|HL008     |Óculos |90.0 |2.0       |180.0          |P008      |\n|HL009     |Vestido|100.0|1.0       |100.0          |P009      |\n|HL010     |Toalha |110.0|2.0       |220.0          |P010      |\n|HL011     |Perfume|120.0|4.0       |480.0          |P011      |\n|HL012     |Tapete |130.0|3.0       |390.0          |P012      |\n|HL013     |Tapete |130.0|4.0       |520.0          |P013      |\n|HL014     |Tapete |130.0|5.0       |650.0          |P014      |\n|HL015     |Tapete |130.0|3.0       |390.0          |P015      |\n|HL016     |Meia   |50.0 |2.0       |100.0          |P016      |\n|HL017     |Sapato |40.0 |4.0       |160.0          |P017      |\n|HL018     |Perfume|120.0|3.0       |360.0          |P018      |\n|HL019     |Perfume|120.0|5.0       |600.0          |P019      |\n|HL020     |Sapato |40.0 |3.0       |120.0          |P020      |\n|HL021     |Mala   |80.0 |5.0       |400.0          |P021      |\n|HL022     |Mala   |80.0 |3.0       |240.0          |P022      |\n|HL023     |Perfume|120.0|2.0       |240.0          |P023      |\n|HL024     |Toalha |110.0|2.0       |220.0          |P024      |\n|HL025     |Tshirt |20.0 |2.0       |40.0           |P025      |\n+----------+-------+-----+----------+---------------+----------+\n\n"
     ]
    }
   ],
   "source": [
    "df_vendas_limpo.show(25, truncate=False)"
   ]
  },
  {
   "cell_type": "code",
   "execution_count": 0,
   "metadata": {
    "application/vnd.databricks.v1+cell": {
     "cellMetadata": {
      "byteLimit": 2048000,
      "rowLimit": 10000
     },
     "inputWidgets": {},
     "nuid": "22fc7d26-35cc-4c15-8ceb-35a43ba7117f",
     "showTitle": false,
     "tableResultSettingsMap": {},
     "title": ""
    }
   },
   "outputs": [
    {
     "output_type": "stream",
     "name": "stdout",
     "output_type": "stream",
     "text": [
      "+------------+\n|Total_Vendas|\n+------------+\n|      6400.0|\n+------------+\n\n"
     ]
    }
   ],
   "source": [
    "spark.sql(\"SELECT SUM(`valor da compra`) AS Total_Vendas FROM vendas\").show()"
   ]
  },
  {
   "cell_type": "code",
   "execution_count": 0,
   "metadata": {
    "application/vnd.databricks.v1+cell": {
     "cellMetadata": {
      "byteLimit": 2048000,
      "rowLimit": 10000
     },
     "inputWidgets": {},
     "nuid": "36107665-306a-4546-a6e0-7fe8c8cc7b87",
     "showTitle": false,
     "tableResultSettingsMap": {},
     "title": ""
    }
   },
   "outputs": [
    {
     "output_type": "display_data",
     "data": {
      "text/html": [
       "<style scoped>\n",
       "  .table-result-container {\n",
       "    max-height: 300px;\n",
       "    overflow: auto;\n",
       "  }\n",
       "  table, th, td {\n",
       "    border: 1px solid black;\n",
       "    border-collapse: collapse;\n",
       "  }\n",
       "  th, td {\n",
       "    padding: 5px;\n",
       "  }\n",
       "  th {\n",
       "    text-align: left;\n",
       "  }\n",
       "</style><div class='table-result-container'><table class='table-result'><thead style='background-color: white'><tr><th>ID_Cliente</th><th>Produto</th><th>Valor</th><th>Quantidade</th><th>Valor da Compra</th><th>ID_Produto</th></tr></thead><tbody><tr><td>HL002</td><td>Cueca</td><td>30.0</td><td>2.0</td><td>60.0</td><td>P002</td></tr><tr><td>HL001</td><td>Tshirt</td><td>20.0</td><td>2.0</td><td>40.0</td><td>P001</td></tr><tr><td>HL003</td><td>Sapato</td><td>40.0</td><td>1.0</td><td>40.0</td><td>P003</td></tr><tr><td>HL006</td><td>Bolsa</td><td>70.0</td><td>2.0</td><td>140.0</td><td>P006</td></tr><tr><td>HL004</td><td>Meia</td><td>50.0</td><td>3.0</td><td>150.0</td><td>P004</td></tr><tr><td>HL005</td><td>Cinto</td><td>60.0</td><td>1.0</td><td>60.0</td><td>P005</td></tr><tr><td>HL010</td><td>Toalha</td><td>110.0</td><td>2.0</td><td>220.0</td><td>P010</td></tr><tr><td>HL009</td><td>Vestido</td><td>100.0</td><td>1.0</td><td>100.0</td><td>P009</td></tr><tr><td>HL008</td><td>Óculos</td><td>90.0</td><td>2.0</td><td>180.0</td><td>P008</td></tr><tr><td>HL007</td><td>Mala</td><td>80.0</td><td>3.0</td><td>240.0</td><td>P007</td></tr><tr><td>HL012</td><td>Tapete</td><td>130.0</td><td>3.0</td><td>390.0</td><td>P012</td></tr><tr><td>HL011</td><td>Perfume</td><td>120.0</td><td>4.0</td><td>480.0</td><td>P011</td></tr><tr><td>HL013</td><td>Tapete</td><td>130.0</td><td>4.0</td><td>520.0</td><td>P013</td></tr><tr><td>HL015</td><td>Tapete</td><td>130.0</td><td>3.0</td><td>390.0</td><td>P015</td></tr><tr><td>HL014</td><td>Tapete</td><td>130.0</td><td>5.0</td><td>650.0</td><td>P014</td></tr><tr><td>HL016</td><td>Meia</td><td>50.0</td><td>2.0</td><td>100.0</td><td>P016</td></tr><tr><td>HL020</td><td>Sapato</td><td>40.0</td><td>3.0</td><td>120.0</td><td>P020</td></tr><tr><td>HL019</td><td>Perfume</td><td>120.0</td><td>5.0</td><td>600.0</td><td>P019</td></tr><tr><td>HL018</td><td>Perfume</td><td>120.0</td><td>3.0</td><td>360.0</td><td>P018</td></tr><tr><td>HL017</td><td>Sapato</td><td>40.0</td><td>4.0</td><td>160.0</td><td>P017</td></tr><tr><td>HL021</td><td>Mala</td><td>80.0</td><td>5.0</td><td>400.0</td><td>P021</td></tr><tr><td>HL023</td><td>Perfume</td><td>120.0</td><td>2.0</td><td>240.0</td><td>P023</td></tr><tr><td>HL022</td><td>Mala</td><td>80.0</td><td>3.0</td><td>240.0</td><td>P022</td></tr><tr><td>HL025</td><td>Tshirt</td><td>20.0</td><td>2.0</td><td>40.0</td><td>P025</td></tr><tr><td>HL024</td><td>Toalha</td><td>110.0</td><td>2.0</td><td>220.0</td><td>P024</td></tr></tbody></table></div>"
      ]
     },
     "metadata": {
      "application/vnd.databricks.v1+output": {
       "addedWidgets": {},
       "aggData": [],
       "aggError": "",
       "aggOverflow": false,
       "aggSchema": [],
       "aggSeriesLimitReached": false,
       "aggType": "",
       "arguments": {},
       "columnCustomDisplayInfos": {},
       "data": [
        [
         "HL002",
         "Cueca",
         30.0,
         2.0,
         60.0,
         "P002"
        ],
        [
         "HL001",
         "Tshirt",
         20.0,
         2.0,
         40.0,
         "P001"
        ],
        [
         "HL003",
         "Sapato",
         40.0,
         1.0,
         40.0,
         "P003"
        ],
        [
         "HL006",
         "Bolsa",
         70.0,
         2.0,
         140.0,
         "P006"
        ],
        [
         "HL004",
         "Meia",
         50.0,
         3.0,
         150.0,
         "P004"
        ],
        [
         "HL005",
         "Cinto",
         60.0,
         1.0,
         60.0,
         "P005"
        ],
        [
         "HL010",
         "Toalha",
         110.0,
         2.0,
         220.0,
         "P010"
        ],
        [
         "HL009",
         "Vestido",
         100.0,
         1.0,
         100.0,
         "P009"
        ],
        [
         "HL008",
         "Óculos",
         90.0,
         2.0,
         180.0,
         "P008"
        ],
        [
         "HL007",
         "Mala",
         80.0,
         3.0,
         240.0,
         "P007"
        ],
        [
         "HL012",
         "Tapete",
         130.0,
         3.0,
         390.0,
         "P012"
        ],
        [
         "HL011",
         "Perfume",
         120.0,
         4.0,
         480.0,
         "P011"
        ],
        [
         "HL013",
         "Tapete",
         130.0,
         4.0,
         520.0,
         "P013"
        ],
        [
         "HL015",
         "Tapete",
         130.0,
         3.0,
         390.0,
         "P015"
        ],
        [
         "HL014",
         "Tapete",
         130.0,
         5.0,
         650.0,
         "P014"
        ],
        [
         "HL016",
         "Meia",
         50.0,
         2.0,
         100.0,
         "P016"
        ],
        [
         "HL020",
         "Sapato",
         40.0,
         3.0,
         120.0,
         "P020"
        ],
        [
         "HL019",
         "Perfume",
         120.0,
         5.0,
         600.0,
         "P019"
        ],
        [
         "HL018",
         "Perfume",
         120.0,
         3.0,
         360.0,
         "P018"
        ],
        [
         "HL017",
         "Sapato",
         40.0,
         4.0,
         160.0,
         "P017"
        ],
        [
         "HL021",
         "Mala",
         80.0,
         5.0,
         400.0,
         "P021"
        ],
        [
         "HL023",
         "Perfume",
         120.0,
         2.0,
         240.0,
         "P023"
        ],
        [
         "HL022",
         "Mala",
         80.0,
         3.0,
         240.0,
         "P022"
        ],
        [
         "HL025",
         "Tshirt",
         20.0,
         2.0,
         40.0,
         "P025"
        ],
        [
         "HL024",
         "Toalha",
         110.0,
         2.0,
         220.0,
         "P024"
        ]
       ],
       "datasetInfos": [],
       "dbfsResultPath": null,
       "isJsonSchema": true,
       "metadata": {},
       "overflow": false,
       "plotOptions": {
        "customPlotOptions": {},
        "displayType": "table",
        "pivotAggregation": null,
        "pivotColumns": null,
        "xColumns": null,
        "yColumns": null
       },
       "removedWidgets": [],
       "schema": [
        {
         "metadata": "{}",
         "name": "ID_Cliente",
         "type": "\"string\""
        },
        {
         "metadata": "{}",
         "name": "Produto",
         "type": "\"string\""
        },
        {
         "metadata": "{}",
         "name": "Valor",
         "type": "\"double\""
        },
        {
         "metadata": "{}",
         "name": "Quantidade",
         "type": "\"double\""
        },
        {
         "metadata": "{}",
         "name": "Valor da Compra",
         "type": "\"double\""
        },
        {
         "metadata": "{}",
         "name": "ID_Produto",
         "type": "\"string\""
        }
       ],
       "type": "table"
      }
     },
     "output_type": "display_data"
    }
   ],
   "source": [
    "df_limpo = spark.table(\"Vendas\").dropDuplicates()\n",
    "\n",
    "df_limpo.display()"
   ]
  },
  {
   "cell_type": "code",
   "execution_count": 0,
   "metadata": {
    "application/vnd.databricks.v1+cell": {
     "cellMetadata": {
      "byteLimit": 2048000,
      "rowLimit": 10000
     },
     "inputWidgets": {},
     "nuid": "0d991658-59d7-4ec8-9371-593c3f80eff0",
     "showTitle": false,
     "tableResultSettingsMap": {},
     "title": ""
    }
   },
   "outputs": [
    {
     "output_type": "stream",
     "name": "stdout",
     "output_type": "stream",
     "text": [
      "Total das Vendas: 6140.0\n"
     ]
    }
   ],
   "source": [
    "total_vendas = df_limpo.agg({\"`valor da compra`\": \"sum\"}).collect()[0][0]\n",
    "\n",
    "print(\"Total das Vendas:\", total_vendas)"
   ]
  },
  {
   "cell_type": "code",
   "execution_count": 0,
   "metadata": {
    "application/vnd.databricks.v1+cell": {
     "cellMetadata": {
      "byteLimit": 2048000,
      "rowLimit": 10000
     },
     "inputWidgets": {},
     "nuid": "c8ec00a2-cc82-4845-962c-0595d0c17e45",
     "showTitle": false,
     "tableResultSettingsMap": {},
     "title": ""
    }
   },
   "outputs": [],
   "source": [
    "df_limpo = df_limpo.withColumnRenamed(\"valor da compra\", \"valor_da_compra\")"
   ]
  },
  {
   "cell_type": "code",
   "execution_count": 0,
   "metadata": {
    "application/vnd.databricks.v1+cell": {
     "cellMetadata": {
      "byteLimit": 2048000,
      "rowLimit": 10000
     },
     "inputWidgets": {},
     "nuid": "1a6b17cd-452e-4b65-9912-529f59275f2c",
     "showTitle": false,
     "tableResultSettingsMap": {},
     "title": ""
    }
   },
   "outputs": [
    {
     "output_type": "display_data",
     "data": {
      "text/html": [
       "<style scoped>\n",
       "  .table-result-container {\n",
       "    max-height: 300px;\n",
       "    overflow: auto;\n",
       "  }\n",
       "  table, th, td {\n",
       "    border: 1px solid black;\n",
       "    border-collapse: collapse;\n",
       "  }\n",
       "  th, td {\n",
       "    padding: 5px;\n",
       "  }\n",
       "  th {\n",
       "    text-align: left;\n",
       "  }\n",
       "</style><div class='table-result-container'><table class='table-result'><thead style='background-color: white'><tr><th>ID_Cliente</th><th>Produto</th><th>Valor</th><th>Quantidade</th><th>valor_da_compra</th><th>ID_Produto</th></tr></thead><tbody><tr><td>HL002</td><td>Cueca</td><td>30.0</td><td>2.0</td><td>60.0</td><td>P002</td></tr><tr><td>HL001</td><td>Tshirt</td><td>20.0</td><td>2.0</td><td>40.0</td><td>P001</td></tr><tr><td>HL003</td><td>Sapato</td><td>40.0</td><td>1.0</td><td>40.0</td><td>P003</td></tr><tr><td>HL006</td><td>Bolsa</td><td>70.0</td><td>2.0</td><td>140.0</td><td>P006</td></tr><tr><td>HL004</td><td>Meia</td><td>50.0</td><td>3.0</td><td>150.0</td><td>P004</td></tr><tr><td>HL005</td><td>Cinto</td><td>60.0</td><td>1.0</td><td>60.0</td><td>P005</td></tr><tr><td>HL010</td><td>Toalha</td><td>110.0</td><td>2.0</td><td>220.0</td><td>P010</td></tr><tr><td>HL009</td><td>Vestido</td><td>100.0</td><td>1.0</td><td>100.0</td><td>P009</td></tr><tr><td>HL008</td><td>Óculos</td><td>90.0</td><td>2.0</td><td>180.0</td><td>P008</td></tr><tr><td>HL007</td><td>Mala</td><td>80.0</td><td>3.0</td><td>240.0</td><td>P007</td></tr><tr><td>HL012</td><td>Tapete</td><td>130.0</td><td>3.0</td><td>390.0</td><td>P012</td></tr><tr><td>HL011</td><td>Perfume</td><td>120.0</td><td>4.0</td><td>480.0</td><td>P011</td></tr><tr><td>HL013</td><td>Tapete</td><td>130.0</td><td>4.0</td><td>520.0</td><td>P013</td></tr><tr><td>HL015</td><td>Tapete</td><td>130.0</td><td>3.0</td><td>390.0</td><td>P015</td></tr><tr><td>HL014</td><td>Tapete</td><td>130.0</td><td>5.0</td><td>650.0</td><td>P014</td></tr><tr><td>HL016</td><td>Meia</td><td>50.0</td><td>2.0</td><td>100.0</td><td>P016</td></tr><tr><td>HL020</td><td>Sapato</td><td>40.0</td><td>3.0</td><td>120.0</td><td>P020</td></tr><tr><td>HL019</td><td>Perfume</td><td>120.0</td><td>5.0</td><td>600.0</td><td>P019</td></tr><tr><td>HL018</td><td>Perfume</td><td>120.0</td><td>3.0</td><td>360.0</td><td>P018</td></tr><tr><td>HL017</td><td>Sapato</td><td>40.0</td><td>4.0</td><td>160.0</td><td>P017</td></tr><tr><td>HL021</td><td>Mala</td><td>80.0</td><td>5.0</td><td>400.0</td><td>P021</td></tr><tr><td>HL023</td><td>Perfume</td><td>120.0</td><td>2.0</td><td>240.0</td><td>P023</td></tr><tr><td>HL022</td><td>Mala</td><td>80.0</td><td>3.0</td><td>240.0</td><td>P022</td></tr><tr><td>HL025</td><td>Tshirt</td><td>20.0</td><td>2.0</td><td>40.0</td><td>P025</td></tr><tr><td>HL024</td><td>Toalha</td><td>110.0</td><td>2.0</td><td>220.0</td><td>P024</td></tr></tbody></table></div>"
      ]
     },
     "metadata": {
      "application/vnd.databricks.v1+output": {
       "addedWidgets": {},
       "aggData": [],
       "aggError": "",
       "aggOverflow": false,
       "aggSchema": [],
       "aggSeriesLimitReached": false,
       "aggType": "",
       "arguments": {},
       "columnCustomDisplayInfos": {},
       "data": [
        [
         "HL002",
         "Cueca",
         30.0,
         2.0,
         60.0,
         "P002"
        ],
        [
         "HL001",
         "Tshirt",
         20.0,
         2.0,
         40.0,
         "P001"
        ],
        [
         "HL003",
         "Sapato",
         40.0,
         1.0,
         40.0,
         "P003"
        ],
        [
         "HL006",
         "Bolsa",
         70.0,
         2.0,
         140.0,
         "P006"
        ],
        [
         "HL004",
         "Meia",
         50.0,
         3.0,
         150.0,
         "P004"
        ],
        [
         "HL005",
         "Cinto",
         60.0,
         1.0,
         60.0,
         "P005"
        ],
        [
         "HL010",
         "Toalha",
         110.0,
         2.0,
         220.0,
         "P010"
        ],
        [
         "HL009",
         "Vestido",
         100.0,
         1.0,
         100.0,
         "P009"
        ],
        [
         "HL008",
         "Óculos",
         90.0,
         2.0,
         180.0,
         "P008"
        ],
        [
         "HL007",
         "Mala",
         80.0,
         3.0,
         240.0,
         "P007"
        ],
        [
         "HL012",
         "Tapete",
         130.0,
         3.0,
         390.0,
         "P012"
        ],
        [
         "HL011",
         "Perfume",
         120.0,
         4.0,
         480.0,
         "P011"
        ],
        [
         "HL013",
         "Tapete",
         130.0,
         4.0,
         520.0,
         "P013"
        ],
        [
         "HL015",
         "Tapete",
         130.0,
         3.0,
         390.0,
         "P015"
        ],
        [
         "HL014",
         "Tapete",
         130.0,
         5.0,
         650.0,
         "P014"
        ],
        [
         "HL016",
         "Meia",
         50.0,
         2.0,
         100.0,
         "P016"
        ],
        [
         "HL020",
         "Sapato",
         40.0,
         3.0,
         120.0,
         "P020"
        ],
        [
         "HL019",
         "Perfume",
         120.0,
         5.0,
         600.0,
         "P019"
        ],
        [
         "HL018",
         "Perfume",
         120.0,
         3.0,
         360.0,
         "P018"
        ],
        [
         "HL017",
         "Sapato",
         40.0,
         4.0,
         160.0,
         "P017"
        ],
        [
         "HL021",
         "Mala",
         80.0,
         5.0,
         400.0,
         "P021"
        ],
        [
         "HL023",
         "Perfume",
         120.0,
         2.0,
         240.0,
         "P023"
        ],
        [
         "HL022",
         "Mala",
         80.0,
         3.0,
         240.0,
         "P022"
        ],
        [
         "HL025",
         "Tshirt",
         20.0,
         2.0,
         40.0,
         "P025"
        ],
        [
         "HL024",
         "Toalha",
         110.0,
         2.0,
         220.0,
         "P024"
        ]
       ],
       "datasetInfos": [],
       "dbfsResultPath": null,
       "isJsonSchema": true,
       "metadata": {},
       "overflow": false,
       "plotOptions": {
        "customPlotOptions": {},
        "displayType": "table",
        "pivotAggregation": null,
        "pivotColumns": null,
        "xColumns": null,
        "yColumns": null
       },
       "removedWidgets": [],
       "schema": [
        {
         "metadata": "{}",
         "name": "ID_Cliente",
         "type": "\"string\""
        },
        {
         "metadata": "{}",
         "name": "Produto",
         "type": "\"string\""
        },
        {
         "metadata": "{}",
         "name": "Valor",
         "type": "\"double\""
        },
        {
         "metadata": "{}",
         "name": "Quantidade",
         "type": "\"double\""
        },
        {
         "metadata": "{}",
         "name": "valor_da_compra",
         "type": "\"double\""
        },
        {
         "metadata": "{}",
         "name": "ID_Produto",
         "type": "\"string\""
        }
       ],
       "type": "table"
      }
     },
     "output_type": "display_data"
    }
   ],
   "source": [
    "df_limpo = df_limpo.withColumnRenamed(\"valor da compra\", \"valor_da_compra\")\n",
    "\n",
    "df_limpo.createOrReplaceTempView(\"vendas_limpa\")\n",
    "\n",
    "spark.sql(\"SELECT * FROM vendas_limpa\").display()"
   ]
  },
  {
   "cell_type": "code",
   "execution_count": 0,
   "metadata": {
    "application/vnd.databricks.v1+cell": {
     "cellMetadata": {
      "byteLimit": 2048000,
      "rowLimit": 10000
     },
     "inputWidgets": {},
     "nuid": "0560d654-db50-4c22-a2bd-47b2075ae2bd",
     "showTitle": false,
     "tableResultSettingsMap": {},
     "title": ""
    }
   },
   "outputs": [
    {
     "output_type": "display_data",
     "data": {
      "text/html": [
       "<style scoped>\n",
       "  .table-result-container {\n",
       "    max-height: 300px;\n",
       "    overflow: auto;\n",
       "  }\n",
       "  table, th, td {\n",
       "    border: 1px solid black;\n",
       "    border-collapse: collapse;\n",
       "  }\n",
       "  th, td {\n",
       "    padding: 5px;\n",
       "  }\n",
       "  th {\n",
       "    text-align: left;\n",
       "  }\n",
       "</style><div class='table-result-container'><table class='table-result'><thead style='background-color: white'><tr><th>ID_Produto</th><th>ID_Cliente</th><th>Produto</th><th>Valor</th><th>Quantidade</th><th>valor_da_compra</th><th>Nome_Cliente</th><th>idade</th><th>Gênero</th><th>Cidade</th><th>Nome do produto </th><th>Categoria</th><th>Valor</th></tr></thead><tbody><tr><td>P002</td><td>HL002</td><td>Cueca</td><td>30.0</td><td>2.0</td><td>60.0</td><td>Mateus Miguel</td><td>25.0</td><td>m</td><td>porto</td><td>Cueca</td><td>Roupa</td><td>30.0</td></tr><tr><td>P001</td><td>HL001</td><td>Tshirt</td><td>20.0</td><td>2.0</td><td>40.0</td><td>João Silva</td><td>25.0</td><td>m</td><td>lisboa</td><td>Tshirt</td><td>Roupa</td><td>20.0</td></tr><tr><td>P003</td><td>HL003</td><td>Sapato</td><td>40.0</td><td>1.0</td><td>40.0</td><td>Miguel Mateus</td><td>26.0</td><td>m</td><td>luanda</td><td>Sapato</td><td>Calçado</td><td>40.0</td></tr><tr><td>P006</td><td>HL006</td><td>Bolsa</td><td>70.0</td><td>2.0</td><td>140.0</td><td>Afonso joão </td><td>30.0</td><td>m</td><td>são paulo </td><td>Bolsa</td><td>Acessorios</td><td>70.0</td></tr><tr><td>P004</td><td>HL004</td><td>Meia</td><td>50.0</td><td>3.0</td><td>150.0</td><td>Rodrigo joão</td><td>18.0</td><td>m</td><td>benguela</td><td>Meia</td><td>Roupa</td><td>50.0</td></tr><tr><td>P005</td><td>HL005</td><td>Cinto</td><td>60.0</td><td>1.0</td><td>60.0</td><td>Miguel Afonso </td><td>20.0</td><td>m</td><td>Huambo</td><td>Cinto</td><td>Acessorios</td><td>60.0</td></tr><tr><td>P010</td><td>HL010</td><td>Toalha</td><td>110.0</td><td>2.0</td><td>220.0</td><td>Antonio Afonso </td><td>34.0</td><td>m</td><td>lisboa</td><td>Toalha</td><td>Roupa</td><td>110.0</td></tr><tr><td>P009</td><td>HL009</td><td>Vestido</td><td>100.0</td><td>1.0</td><td>100.0</td><td>Roberto joão </td><td>45.0</td><td>m</td><td>porto</td><td>Vestido</td><td>Roupa</td><td>100.0</td></tr><tr><td>P008</td><td>HL008</td><td>Óculos</td><td>90.0</td><td>2.0</td><td>180.0</td><td>André Roberto </td><td>50.0</td><td>m</td><td>porto</td><td>Óculos</td><td>Acessorios</td><td>90.0</td></tr><tr><td>P007</td><td>HL007</td><td>Mala</td><td>80.0</td><td>3.0</td><td>240.0</td><td>João Roberto </td><td>40.0</td><td>m</td><td>lisboa</td><td>Mala</td><td>Acessorios</td><td>80.0</td></tr><tr><td>P012</td><td>HL012</td><td>Tapete</td><td>130.0</td><td>3.0</td><td>390.0</td><td>Angela Roberta</td><td>33.0</td><td>f</td><td>luanda</td><td>Tapete</td><td>Casa</td><td>130.0</td></tr><tr><td>P011</td><td>HL011</td><td>Perfume</td><td>120.0</td><td>4.0</td><td>480.0</td><td>Antonia Angela</td><td>33.0</td><td>f</td><td>luanda</td><td>Perfume</td><td>Acessorios</td><td>120.0</td></tr><tr><td>P013</td><td>HL013</td><td>Tapete</td><td>130.0</td><td>4.0</td><td>520.0</td><td>Roberta Miranda</td><td>45.0</td><td>f</td><td>luanda</td><td>Tapete</td><td>Casa</td><td>130.0</td></tr><tr><td>P015</td><td>HL015</td><td>Tapete</td><td>130.0</td><td>3.0</td><td>390.0</td><td>Maria de Lurdes</td><td>60.0</td><td>f</td><td>lisboa</td><td>Tapete</td><td>Casa</td><td>130.0</td></tr><tr><td>P014</td><td>HL014</td><td>Tapete</td><td>130.0</td><td>5.0</td><td>650.0</td><td>Vania Maria</td><td>50.0</td><td>f</td><td>porto</td><td>Tapete</td><td>Casa</td><td>130.0</td></tr><tr><td>P016</td><td>HL016</td><td>Meia</td><td>50.0</td><td>2.0</td><td>100.0</td><td>Albertina joão</td><td>23.0</td><td>f</td><td>lisboa</td><td>Meia</td><td>Roupa</td><td>50.0</td></tr><tr><td>P020</td><td>HL020</td><td>Sapato</td><td>40.0</td><td>3.0</td><td>120.0</td><td>Maria Mateus </td><td>26.0</td><td>f</td><td>benguela</td><td>Sapato</td><td>Roupa</td><td>40.0</td></tr><tr><td>P019</td><td>HL019</td><td>Perfume</td><td>120.0</td><td>5.0</td><td>600.0</td><td>Gilberta Gil </td><td>25.0</td><td>f</td><td>benguela</td><td>Perfume</td><td>Acessorios</td><td>120.0</td></tr><tr><td>P018</td><td>HL018</td><td>Perfume</td><td>120.0</td><td>3.0</td><td>360.0</td><td>Ruth diogo </td><td>21.0</td><td>f</td><td>benguela</td><td>Perfume</td><td>Acessorios</td><td>120.0</td></tr><tr><td>P017</td><td>HL017</td><td>Sapato</td><td>40.0</td><td>4.0</td><td>160.0</td><td>Albertina Maria</td><td>22.0</td><td>f</td><td>lisboa</td><td>Sapato</td><td>Calçado</td><td>40.0</td></tr><tr><td>P021</td><td>HL021</td><td>Mala</td><td>80.0</td><td>5.0</td><td>400.0</td><td>Yulissa Rodrigo </td><td>28.0</td><td>f</td><td>benguela</td><td>Mala</td><td>Acessorios</td><td>80.0</td></tr><tr><td>P023</td><td>HL023</td><td>Perfume</td><td>120.0</td><td>2.0</td><td>240.0</td><td>Miguel roberto</td><td>34.0</td><td>m</td><td>faro</td><td>Perfume</td><td>Acessorios</td><td>120.0</td></tr><tr><td>P022</td><td>HL022</td><td>Mala</td><td>80.0</td><td>3.0</td><td>240.0</td><td>Edith judith</td><td>30.0</td><td>f</td><td>faro</td><td>Mala</td><td>Acessorios</td><td>80.0</td></tr><tr><td>P025</td><td>HL025</td><td>Tshirt</td><td>20.0</td><td>2.0</td><td>40.0</td><td>Maria dos Santos </td><td>23.0</td><td>f</td><td>faro</td><td>Tshirt</td><td>Roupa</td><td>20.0</td></tr><tr><td>P024</td><td>HL024</td><td>Toalha</td><td>110.0</td><td>2.0</td><td>220.0</td><td>Valeria Maria</td><td>26.0</td><td>f</td><td>faro</td><td>Toalha</td><td>Roupa</td><td>110.0</td></tr></tbody></table></div>"
      ]
     },
     "metadata": {
      "application/vnd.databricks.v1+output": {
       "addedWidgets": {},
       "aggData": [],
       "aggError": "",
       "aggOverflow": false,
       "aggSchema": [],
       "aggSeriesLimitReached": false,
       "aggType": "",
       "arguments": {},
       "columnCustomDisplayInfos": {},
       "data": [
        [
         "P002",
         "HL002",
         "Cueca",
         30.0,
         2.0,
         60.0,
         "Mateus Miguel",
         25.0,
         "m",
         "porto",
         "Cueca",
         "Roupa",
         30.0
        ],
        [
         "P001",
         "HL001",
         "Tshirt",
         20.0,
         2.0,
         40.0,
         "João Silva",
         25.0,
         "m",
         "lisboa",
         "Tshirt",
         "Roupa",
         20.0
        ],
        [
         "P003",
         "HL003",
         "Sapato",
         40.0,
         1.0,
         40.0,
         "Miguel Mateus",
         26.0,
         "m",
         "luanda",
         "Sapato",
         "Calçado",
         40.0
        ],
        [
         "P006",
         "HL006",
         "Bolsa",
         70.0,
         2.0,
         140.0,
         "Afonso joão ",
         30.0,
         "m",
         "são paulo ",
         "Bolsa",
         "Acessorios",
         70.0
        ],
        [
         "P004",
         "HL004",
         "Meia",
         50.0,
         3.0,
         150.0,
         "Rodrigo joão",
         18.0,
         "m",
         "benguela",
         "Meia",
         "Roupa",
         50.0
        ],
        [
         "P005",
         "HL005",
         "Cinto",
         60.0,
         1.0,
         60.0,
         "Miguel Afonso ",
         20.0,
         "m",
         "Huambo",
         "Cinto",
         "Acessorios",
         60.0
        ],
        [
         "P010",
         "HL010",
         "Toalha",
         110.0,
         2.0,
         220.0,
         "Antonio Afonso ",
         34.0,
         "m",
         "lisboa",
         "Toalha",
         "Roupa",
         110.0
        ],
        [
         "P009",
         "HL009",
         "Vestido",
         100.0,
         1.0,
         100.0,
         "Roberto joão ",
         45.0,
         "m",
         "porto",
         "Vestido",
         "Roupa",
         100.0
        ],
        [
         "P008",
         "HL008",
         "Óculos",
         90.0,
         2.0,
         180.0,
         "André Roberto ",
         50.0,
         "m",
         "porto",
         "Óculos",
         "Acessorios",
         90.0
        ],
        [
         "P007",
         "HL007",
         "Mala",
         80.0,
         3.0,
         240.0,
         "João Roberto ",
         40.0,
         "m",
         "lisboa",
         "Mala",
         "Acessorios",
         80.0
        ],
        [
         "P012",
         "HL012",
         "Tapete",
         130.0,
         3.0,
         390.0,
         "Angela Roberta",
         33.0,
         "f",
         "luanda",
         "Tapete",
         "Casa",
         130.0
        ],
        [
         "P011",
         "HL011",
         "Perfume",
         120.0,
         4.0,
         480.0,
         "Antonia Angela",
         33.0,
         "f",
         "luanda",
         "Perfume",
         "Acessorios",
         120.0
        ],
        [
         "P013",
         "HL013",
         "Tapete",
         130.0,
         4.0,
         520.0,
         "Roberta Miranda",
         45.0,
         "f",
         "luanda",
         "Tapete",
         "Casa",
         130.0
        ],
        [
         "P015",
         "HL015",
         "Tapete",
         130.0,
         3.0,
         390.0,
         "Maria de Lurdes",
         60.0,
         "f",
         "lisboa",
         "Tapete",
         "Casa",
         130.0
        ],
        [
         "P014",
         "HL014",
         "Tapete",
         130.0,
         5.0,
         650.0,
         "Vania Maria",
         50.0,
         "f",
         "porto",
         "Tapete",
         "Casa",
         130.0
        ],
        [
         "P016",
         "HL016",
         "Meia",
         50.0,
         2.0,
         100.0,
         "Albertina joão",
         23.0,
         "f",
         "lisboa",
         "Meia",
         "Roupa",
         50.0
        ],
        [
         "P020",
         "HL020",
         "Sapato",
         40.0,
         3.0,
         120.0,
         "Maria Mateus ",
         26.0,
         "f",
         "benguela",
         "Sapato",
         "Roupa",
         40.0
        ],
        [
         "P019",
         "HL019",
         "Perfume",
         120.0,
         5.0,
         600.0,
         "Gilberta Gil ",
         25.0,
         "f",
         "benguela",
         "Perfume",
         "Acessorios",
         120.0
        ],
        [
         "P018",
         "HL018",
         "Perfume",
         120.0,
         3.0,
         360.0,
         "Ruth diogo ",
         21.0,
         "f",
         "benguela",
         "Perfume",
         "Acessorios",
         120.0
        ],
        [
         "P017",
         "HL017",
         "Sapato",
         40.0,
         4.0,
         160.0,
         "Albertina Maria",
         22.0,
         "f",
         "lisboa",
         "Sapato",
         "Calçado",
         40.0
        ],
        [
         "P021",
         "HL021",
         "Mala",
         80.0,
         5.0,
         400.0,
         "Yulissa Rodrigo ",
         28.0,
         "f",
         "benguela",
         "Mala",
         "Acessorios",
         80.0
        ],
        [
         "P023",
         "HL023",
         "Perfume",
         120.0,
         2.0,
         240.0,
         "Miguel roberto",
         34.0,
         "m",
         "faro",
         "Perfume",
         "Acessorios",
         120.0
        ],
        [
         "P022",
         "HL022",
         "Mala",
         80.0,
         3.0,
         240.0,
         "Edith judith",
         30.0,
         "f",
         "faro",
         "Mala",
         "Acessorios",
         80.0
        ],
        [
         "P025",
         "HL025",
         "Tshirt",
         20.0,
         2.0,
         40.0,
         "Maria dos Santos ",
         23.0,
         "f",
         "faro",
         "Tshirt",
         "Roupa",
         20.0
        ],
        [
         "P024",
         "HL024",
         "Toalha",
         110.0,
         2.0,
         220.0,
         "Valeria Maria",
         26.0,
         "f",
         "faro",
         "Toalha",
         "Roupa",
         110.0
        ]
       ],
       "datasetInfos": [],
       "dbfsResultPath": null,
       "isJsonSchema": true,
       "metadata": {},
       "overflow": false,
       "plotOptions": {
        "customPlotOptions": {},
        "displayType": "table",
        "pivotAggregation": null,
        "pivotColumns": null,
        "xColumns": null,
        "yColumns": null
       },
       "removedWidgets": [],
       "schema": [
        {
         "metadata": "{}",
         "name": "ID_Produto",
         "type": "\"string\""
        },
        {
         "metadata": "{}",
         "name": "ID_Cliente",
         "type": "\"string\""
        },
        {
         "metadata": "{}",
         "name": "Produto",
         "type": "\"string\""
        },
        {
         "metadata": "{}",
         "name": "Valor",
         "type": "\"double\""
        },
        {
         "metadata": "{}",
         "name": "Quantidade",
         "type": "\"double\""
        },
        {
         "metadata": "{}",
         "name": "valor_da_compra",
         "type": "\"double\""
        },
        {
         "metadata": "{}",
         "name": "Nome_Cliente",
         "type": "\"string\""
        },
        {
         "metadata": "{}",
         "name": "idade",
         "type": "\"double\""
        },
        {
         "metadata": "{}",
         "name": "Gênero",
         "type": "\"string\""
        },
        {
         "metadata": "{}",
         "name": "Cidade",
         "type": "\"string\""
        },
        {
         "metadata": "{}",
         "name": "Nome do produto ",
         "type": "\"string\""
        },
        {
         "metadata": "{}",
         "name": "Categoria",
         "type": "\"string\""
        },
        {
         "metadata": "{}",
         "name": "Valor",
         "type": "\"double\""
        }
       ],
       "type": "table"
      }
     },
     "output_type": "display_data"
    }
   ],
   "source": [
    "fato_estrela = df_limpo \\\n",
    "    .join(spark.table(\"cliente\"), on=\"ID_Cliente\", how=\"left\") \\\n",
    "    .join(spark.table(\"dim_produto\"), on=\"ID_Produto\", how=\"left\")\n",
    "\n",
    "fato_estrela.createOrReplaceTempView(\"fato_vendas_estrela\")\n",
    "\n",
    "fato_estrela.display()"
   ]
  },
  {
   "cell_type": "code",
   "execution_count": 0,
   "metadata": {
    "application/vnd.databricks.v1+cell": {
     "cellMetadata": {
      "byteLimit": 2048000,
      "rowLimit": 10000
     },
     "inputWidgets": {},
     "nuid": "33b61b0f-4914-45da-9aaa-630c84d9862c",
     "showTitle": false,
     "tableResultSettingsMap": {},
     "title": ""
    }
   },
   "outputs": [
    {
     "output_type": "display_data",
     "data": {
      "text/html": [
       "<style scoped>\n",
       "  .table-result-container {\n",
       "    max-height: 300px;\n",
       "    overflow: auto;\n",
       "  }\n",
       "  table, th, td {\n",
       "    border: 1px solid black;\n",
       "    border-collapse: collapse;\n",
       "  }\n",
       "  th, td {\n",
       "    padding: 5px;\n",
       "  }\n",
       "  th {\n",
       "    text-align: left;\n",
       "  }\n",
       "</style><div class='table-result-container'><table class='table-result'><thead style='background-color: white'><tr><th>Nome_Cliente</th><th>Total_Vendas</th></tr></thead><tbody><tr><td>Vania Maria</td><td>650.0</td></tr></tbody></table></div>"
      ]
     },
     "metadata": {
      "application/vnd.databricks.v1+output": {
       "addedWidgets": {},
       "aggData": [],
       "aggError": "",
       "aggOverflow": false,
       "aggSchema": [],
       "aggSeriesLimitReached": false,
       "aggType": "",
       "arguments": {},
       "columnCustomDisplayInfos": {},
       "data": [
        [
         "Vania Maria",
         650.0
        ]
       ],
       "datasetInfos": [],
       "dbfsResultPath": null,
       "isJsonSchema": true,
       "metadata": {},
       "overflow": false,
       "plotOptions": {
        "customPlotOptions": {},
        "displayType": "table",
        "pivotAggregation": null,
        "pivotColumns": null,
        "xColumns": null,
        "yColumns": null
       },
       "removedWidgets": [],
       "schema": [
        {
         "metadata": "{}",
         "name": "Nome_Cliente",
         "type": "\"string\""
        },
        {
         "metadata": "{}",
         "name": "Total_Vendas",
         "type": "\"double\""
        }
       ],
       "type": "table"
      }
     },
     "output_type": "display_data"
    }
   ],
   "source": [
    "spark.sql(\"\"\"\n",
    "    SELECT Nome_Cliente, SUM(valor_da_compra) AS Total_Vendas\n",
    "    FROM fato_vendas_estrela\n",
    "    GROUP BY Nome_Cliente\n",
    "    ORDER BY Total_Vendas DESC\n",
    "    LIMIT 1\n",
    "\"\"\").display()\n"
   ]
  },
  {
   "cell_type": "code",
   "execution_count": 0,
   "metadata": {
    "application/vnd.databricks.v1+cell": {
     "cellMetadata": {
      "byteLimit": 2048000,
      "rowLimit": 10000
     },
     "inputWidgets": {},
     "nuid": "afa41c15-7fcc-45ba-b5d8-4f3f74a853fa",
     "showTitle": false,
     "tableResultSettingsMap": {},
     "title": ""
    }
   },
   "outputs": [
    {
     "output_type": "display_data",
     "data": {
      "text/html": [
       "<style scoped>\n",
       "  .table-result-container {\n",
       "    max-height: 300px;\n",
       "    overflow: auto;\n",
       "  }\n",
       "  table, th, td {\n",
       "    border: 1px solid black;\n",
       "    border-collapse: collapse;\n",
       "  }\n",
       "  th, td {\n",
       "    padding: 5px;\n",
       "  }\n",
       "  th {\n",
       "    text-align: left;\n",
       "  }\n",
       "</style><div class='table-result-container'><table class='table-result'><thead style='background-color: white'><tr><th>Categoria</th><th>Total_Vendas</th></tr></thead><tbody><tr><td>Acessorios</td><td>2940.0</td></tr></tbody></table></div>"
      ]
     },
     "metadata": {
      "application/vnd.databricks.v1+output": {
       "addedWidgets": {},
       "aggData": [],
       "aggError": "",
       "aggOverflow": false,
       "aggSchema": [],
       "aggSeriesLimitReached": false,
       "aggType": "",
       "arguments": {},
       "columnCustomDisplayInfos": {},
       "data": [
        [
         "Acessorios",
         2940.0
        ]
       ],
       "datasetInfos": [],
       "dbfsResultPath": null,
       "isJsonSchema": true,
       "metadata": {},
       "overflow": false,
       "plotOptions": {
        "customPlotOptions": {},
        "displayType": "table",
        "pivotAggregation": null,
        "pivotColumns": null,
        "xColumns": null,
        "yColumns": null
       },
       "removedWidgets": [],
       "schema": [
        {
         "metadata": "{}",
         "name": "Categoria",
         "type": "\"string\""
        },
        {
         "metadata": "{}",
         "name": "Total_Vendas",
         "type": "\"double\""
        }
       ],
       "type": "table"
      }
     },
     "output_type": "display_data"
    }
   ],
   "source": [
    "spark.sql(\"\"\"\n",
    "    SELECT Categoria, SUM(valor_da_compra) AS Total_Vendas\n",
    "    FROM fato_vendas_estrela\n",
    "    GROUP BY Categoria\n",
    "    ORDER BY Total_Vendas DESC\n",
    "    LIMIT 1\n",
    "\"\"\").display()\n"
   ]
  },
  {
   "cell_type": "code",
   "execution_count": 0,
   "metadata": {
    "application/vnd.databricks.v1+cell": {
     "cellMetadata": {
      "byteLimit": 2048000,
      "rowLimit": 10000
     },
     "inputWidgets": {},
     "nuid": "0d79cf1e-699f-41cd-a284-2737d14259d3",
     "showTitle": false,
     "tableResultSettingsMap": {},
     "title": ""
    }
   },
   "outputs": [
    {
     "output_type": "display_data",
     "data": {
      "text/html": [
       "<style scoped>\n",
       "  .table-result-container {\n",
       "    max-height: 300px;\n",
       "    overflow: auto;\n",
       "  }\n",
       "  table, th, td {\n",
       "    border: 1px solid black;\n",
       "    border-collapse: collapse;\n",
       "  }\n",
       "  th, td {\n",
       "    padding: 5px;\n",
       "  }\n",
       "  th {\n",
       "    text-align: left;\n",
       "  }\n",
       "</style><div class='table-result-container'><table class='table-result'><thead style='background-color: white'><tr><th>Gênero</th><th>Total_Vendas</th></tr></thead><tbody><tr><td>f</td><td>4670.0</td></tr></tbody></table></div>"
      ]
     },
     "metadata": {
      "application/vnd.databricks.v1+output": {
       "addedWidgets": {},
       "aggData": [],
       "aggError": "",
       "aggOverflow": false,
       "aggSchema": [],
       "aggSeriesLimitReached": false,
       "aggType": "",
       "arguments": {},
       "columnCustomDisplayInfos": {},
       "data": [
        [
         "f",
         4670.0
        ]
       ],
       "datasetInfos": [],
       "dbfsResultPath": null,
       "isJsonSchema": true,
       "metadata": {},
       "overflow": false,
       "plotOptions": {
        "customPlotOptions": {},
        "displayType": "table",
        "pivotAggregation": null,
        "pivotColumns": null,
        "xColumns": null,
        "yColumns": null
       },
       "removedWidgets": [],
       "schema": [
        {
         "metadata": "{}",
         "name": "Gênero",
         "type": "\"string\""
        },
        {
         "metadata": "{}",
         "name": "Total_Vendas",
         "type": "\"double\""
        }
       ],
       "type": "table"
      }
     },
     "output_type": "display_data"
    }
   ],
   "source": [
    "spark.sql(\"\"\"\n",
    "    SELECT `Gênero`, SUM(valor_da_compra) AS Total_Vendas\n",
    "    FROM fato_vendas_estrela\n",
    "    GROUP BY `Gênero`\n",
    "    ORDER BY Total_Vendas DESC\n",
    "    LIMIT 1\n",
    "\"\"\").display()\n"
   ]
  },
  {
   "cell_type": "code",
   "execution_count": 0,
   "metadata": {
    "application/vnd.databricks.v1+cell": {
     "cellMetadata": {
      "byteLimit": 2048000,
      "rowLimit": 10000
     },
     "inputWidgets": {},
     "nuid": "cd1629d8-0e83-45c4-af67-df5fe67c2903",
     "showTitle": false,
     "tableResultSettingsMap": {},
     "title": ""
    }
   },
   "outputs": [
    {
     "output_type": "display_data",
     "data": {
      "text/html": [
       "<style scoped>\n",
       "  .table-result-container {\n",
       "    max-height: 300px;\n",
       "    overflow: auto;\n",
       "  }\n",
       "  table, th, td {\n",
       "    border: 1px solid black;\n",
       "    border-collapse: collapse;\n",
       "  }\n",
       "  th, td {\n",
       "    padding: 5px;\n",
       "  }\n",
       "  th {\n",
       "    text-align: left;\n",
       "  }\n",
       "</style><div class='table-result-container'><table class='table-result'><thead style='background-color: white'><tr><th>Cidade</th><th>Total_Vendas</th></tr></thead><tbody><tr><td>benguela</td><td>1630.0</td></tr></tbody></table></div>"
      ]
     },
     "metadata": {
      "application/vnd.databricks.v1+output": {
       "addedWidgets": {},
       "aggData": [],
       "aggError": "",
       "aggOverflow": false,
       "aggSchema": [],
       "aggSeriesLimitReached": false,
       "aggType": "",
       "arguments": {},
       "columnCustomDisplayInfos": {},
       "data": [
        [
         "benguela",
         1630.0
        ]
       ],
       "datasetInfos": [],
       "dbfsResultPath": null,
       "isJsonSchema": true,
       "metadata": {},
       "overflow": false,
       "plotOptions": {
        "customPlotOptions": {},
        "displayType": "table",
        "pivotAggregation": null,
        "pivotColumns": null,
        "xColumns": null,
        "yColumns": null
       },
       "removedWidgets": [],
       "schema": [
        {
         "metadata": "{}",
         "name": "Cidade",
         "type": "\"string\""
        },
        {
         "metadata": "{}",
         "name": "Total_Vendas",
         "type": "\"double\""
        }
       ],
       "type": "table"
      }
     },
     "output_type": "display_data"
    }
   ],
   "source": [
    "spark.sql(\"\"\"\n",
    "    SELECT Cidade, SUM(valor_da_compra) AS Total_Vendas\n",
    "    FROM fato_vendas_estrela\n",
    "    GROUP BY Cidade\n",
    "    ORDER BY Total_Vendas DESC\n",
    "    LIMIT 1\n",
    "\"\"\").display()\n"
   ]
  },
  {
   "cell_type": "code",
   "execution_count": 0,
   "metadata": {
    "application/vnd.databricks.v1+cell": {
     "cellMetadata": {
      "byteLimit": 2048000,
      "rowLimit": 10000
     },
     "inputWidgets": {},
     "nuid": "1067993e-c35b-4715-9752-91653f6b719d",
     "showTitle": false,
     "tableResultSettingsMap": {},
     "title": ""
    }
   },
   "outputs": [
    {
     "output_type": "display_data",
     "data": {
      "text/html": [
       "<style scoped>\n",
       "  .table-result-container {\n",
       "    max-height: 300px;\n",
       "    overflow: auto;\n",
       "  }\n",
       "  table, th, td {\n",
       "    border: 1px solid black;\n",
       "    border-collapse: collapse;\n",
       "  }\n",
       "  th, td {\n",
       "    padding: 5px;\n",
       "  }\n",
       "  th {\n",
       "    text-align: left;\n",
       "  }\n",
       "</style><div class='table-result-container'><table class='table-result'><thead style='background-color: white'><tr><th>Nome_do_produto</th><th>Total_Vendas</th></tr></thead><tbody><tr><td>Tapete</td><td>4</td></tr></tbody></table></div>"
      ]
     },
     "metadata": {
      "application/vnd.databricks.v1+output": {
       "addedWidgets": {},
       "aggData": [],
       "aggError": "",
       "aggOverflow": false,
       "aggSchema": [],
       "aggSeriesLimitReached": false,
       "aggType": "",
       "arguments": {},
       "columnCustomDisplayInfos": {},
       "data": [
        [
         "Tapete",
         4
        ]
       ],
       "datasetInfos": [],
       "dbfsResultPath": null,
       "isJsonSchema": true,
       "metadata": {},
       "overflow": false,
       "plotOptions": {
        "customPlotOptions": {},
        "displayType": "table",
        "pivotAggregation": null,
        "pivotColumns": null,
        "xColumns": null,
        "yColumns": null
       },
       "removedWidgets": [],
       "schema": [
        {
         "metadata": "{}",
         "name": "Nome_do_produto",
         "type": "\"string\""
        },
        {
         "metadata": "{}",
         "name": "Total_Vendas",
         "type": "\"long\""
        }
       ],
       "type": "table"
      }
     },
     "output_type": "display_data"
    }
   ],
   "source": [
    "spark.sql(\"\"\"\n",
    "    SELECT `Nome do produto ` AS Nome_do_produto, COUNT(*) AS Total_Vendas\n",
    "    FROM fato_vendas_estrela\n",
    "    GROUP BY `Nome do produto `\n",
    "    ORDER BY Total_Vendas DESC\n",
    "    LIMIT 1\n",
    "\"\"\").display()\n"
   ]
  },
  {
   "cell_type": "code",
   "execution_count": 0,
   "metadata": {
    "application/vnd.databricks.v1+cell": {
     "cellMetadata": {
      "byteLimit": 2048000,
      "rowLimit": 10000
     },
     "inputWidgets": {},
     "nuid": "a2f00130-d6b8-4f19-8cff-c43276578784",
     "showTitle": false,
     "tableResultSettingsMap": {},
     "title": ""
    }
   },
   "outputs": [
    {
     "output_type": "display_data",
     "data": {
      "text/html": [
       "<style scoped>\n",
       "  .table-result-container {\n",
       "    max-height: 300px;\n",
       "    overflow: auto;\n",
       "  }\n",
       "  table, th, td {\n",
       "    border: 1px solid black;\n",
       "    border-collapse: collapse;\n",
       "  }\n",
       "  th, td {\n",
       "    padding: 5px;\n",
       "  }\n",
       "  th {\n",
       "    text-align: left;\n",
       "  }\n",
       "</style><div class='table-result-container'><table class='table-result'><thead style='background-color: white'><tr><th>faixa_etaria</th><th>total_compras</th></tr></thead><tbody><tr><td>20-29</td><td>2200.0</td></tr><tr><td>30-39</td><td>1710.0</td></tr><tr><td>40-49</td><td>860.0</td></tr><tr><td>50-59</td><td>830.0</td></tr><tr><td>60 ou mais</td><td>390.0</td></tr><tr><td>Menos de 20</td><td>150.0</td></tr></tbody></table></div>"
      ]
     },
     "metadata": {
      "application/vnd.databricks.v1+output": {
       "addedWidgets": {},
       "aggData": [],
       "aggError": "",
       "aggOverflow": false,
       "aggSchema": [],
       "aggSeriesLimitReached": false,
       "aggType": "",
       "arguments": {},
       "columnCustomDisplayInfos": {},
       "data": [
        [
         "20-29",
         2200.0
        ],
        [
         "30-39",
         1710.0
        ],
        [
         "40-49",
         860.0
        ],
        [
         "50-59",
         830.0
        ],
        [
         "60 ou mais",
         390.0
        ],
        [
         "Menos de 20",
         150.0
        ]
       ],
       "datasetInfos": [],
       "dbfsResultPath": null,
       "isJsonSchema": true,
       "metadata": {},
       "overflow": false,
       "plotOptions": {
        "customPlotOptions": {},
        "displayType": "table",
        "pivotAggregation": null,
        "pivotColumns": null,
        "xColumns": null,
        "yColumns": null
       },
       "removedWidgets": [],
       "schema": [
        {
         "metadata": "{}",
         "name": "faixa_etaria",
         "type": "\"string\""
        },
        {
         "metadata": "{}",
         "name": "total_compras",
         "type": "\"double\""
        }
       ],
       "type": "table"
      }
     },
     "output_type": "display_data"
    }
   ],
   "source": [
    "spark.sql(\"\"\"\n",
    "    SELECT \n",
    "        CASE \n",
    "            WHEN idade < 20 THEN 'Menos de 20'\n",
    "            WHEN idade BETWEEN 20 AND 29 THEN '20-29'\n",
    "            WHEN idade BETWEEN 30 AND 39 THEN '30-39'\n",
    "            WHEN idade BETWEEN 40 AND 49 THEN '40-49'\n",
    "            WHEN idade BETWEEN 50 AND 59 THEN '50-59'\n",
    "            ELSE '60 ou mais'\n",
    "        END AS faixa_etaria,\n",
    "        SUM(valor_da_compra) AS total_compras\n",
    "    FROM fato_vendas_estrela\n",
    "    GROUP BY faixa_etaria\n",
    "    ORDER BY total_compras DESC\n",
    "\"\"\").display()\n"
   ]
  },
  {
   "cell_type": "code",
   "execution_count": 0,
   "metadata": {
    "application/vnd.databricks.v1+cell": {
     "cellMetadata": {
      "byteLimit": 2048000,
      "rowLimit": 10000
     },
     "inputWidgets": {},
     "nuid": "27933634-fc9c-4c01-9532-9d00b7f6fb63",
     "showTitle": false,
     "tableResultSettingsMap": {},
     "title": ""
    }
   },
   "outputs": [
    {
     "output_type": "display_data",
     "data": {
      "text/html": [
       "<style scoped>\n",
       "  .table-result-container {\n",
       "    max-height: 300px;\n",
       "    overflow: auto;\n",
       "  }\n",
       "  table, th, td {\n",
       "    border: 1px solid black;\n",
       "    border-collapse: collapse;\n",
       "  }\n",
       "  th, td {\n",
       "    padding: 5px;\n",
       "  }\n",
       "  th {\n",
       "    text-align: left;\n",
       "  }\n",
       "</style><div class='table-result-container'><table class='table-result'><thead style='background-color: white'><tr><th>Nome do produto </th><th>Valor</th></tr></thead><tbody><tr><td>Tapete</td><td>130.0</td></tr></tbody></table></div>"
      ]
     },
     "metadata": {
      "application/vnd.databricks.v1+output": {
       "addedWidgets": {},
       "aggData": [],
       "aggError": "",
       "aggOverflow": false,
       "aggSchema": [],
       "aggSeriesLimitReached": false,
       "aggType": "",
       "arguments": {},
       "columnCustomDisplayInfos": {},
       "data": [
        [
         "Tapete",
         130.0
        ]
       ],
       "datasetInfos": [],
       "dbfsResultPath": null,
       "isJsonSchema": true,
       "metadata": {},
       "overflow": false,
       "plotOptions": {
        "customPlotOptions": {},
        "displayType": "table",
        "pivotAggregation": null,
        "pivotColumns": null,
        "xColumns": null,
        "yColumns": null
       },
       "removedWidgets": [],
       "schema": [
        {
         "metadata": "{}",
         "name": "Nome do produto ",
         "type": "\"string\""
        },
        {
         "metadata": "{}",
         "name": "Valor",
         "type": "\"double\""
        }
       ],
       "type": "table"
      }
     },
     "output_type": "display_data"
    }
   ],
   "source": [
    "spark.sql(\"\"\"\n",
    "SELECT `Nome do produto `, Valor\n",
    "FROM dim_produto\n",
    "ORDER BY Valor DESC\n",
    "LIMIT 1\n",
    "\"\"\").display()\n"
   ]
  }
 ],
 "metadata": {
  "application/vnd.databricks.v1+notebook": {
   "computePreferences": null,
   "dashboards": [],
   "environmentMetadata": null,
   "inputWidgetPreferences": null,
   "language": "python",
   "notebookMetadata": {
    "pythonIndentUnit": 4
   },
   "notebookName": "Dados MVP",
   "widgets": {}
  }
 },
 "nbformat": 4,
 "nbformat_minor": 0
}